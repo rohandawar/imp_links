{
 "cells": [
  {
   "cell_type": "code",
   "execution_count": 1,
   "id": "5a84f8fb",
   "metadata": {
    "_cell_guid": "b1076dfc-b9ad-4769-8c92-a6c4dae69d19",
    "_uuid": "8f2839f25d086af736a60e9eeb907d3b93b6e0e5",
    "execution": {
     "iopub.execute_input": "2022-03-27T07:25:19.277006Z",
     "iopub.status.busy": "2022-03-27T07:25:19.275163Z",
     "iopub.status.idle": "2022-03-27T07:25:19.287902Z",
     "shell.execute_reply": "2022-03-27T07:25:19.288503Z",
     "shell.execute_reply.started": "2022-03-27T07:24:38.625417Z"
    },
    "papermill": {
     "duration": 0.024565,
     "end_time": "2022-03-27T07:25:19.288932",
     "exception": false,
     "start_time": "2022-03-27T07:25:19.264367",
     "status": "completed"
    },
    "tags": []
   },
   "outputs": [],
   "source": [
    "# This Python 3 environment comes with many helpful analytics libraries installed\n",
    "# It is defined by the kaggle/python Docker image: https://github.com/kaggle/docker-python\n",
    "# For example, here's several helpful packages to load\n",
    "\n",
    "import numpy as np # linear algebra\n",
    "import pandas as pd # data processing, CSV file I/O (e.g. pd.read_csv)\n",
    "\n",
    "# Input data files are available in the read-only \"../input/\" directory\n",
    "# For example, running this (by clicking run or pressing Shift+Enter) will list all files under the input directory\n",
    "\n",
    "import os\n",
    "for dirname, _, filenames in os.walk('/kaggle/input'):\n",
    "    for filename in filenames:\n",
    "        print(os.path.join(dirname, filename))\n",
    "\n",
    "# You can write up to 20GB to the current directory (/kaggle/working/) that gets preserved as output when you create a version using \"Save & Run All\" \n",
    "# You can also write temporary files to /kaggle/temp/, but they won't be saved outside of the current session"
   ]
  },
  {
   "cell_type": "markdown",
   "id": "e467a217",
   "metadata": {
    "papermill": {
     "duration": 0.004185,
     "end_time": "2022-03-27T07:25:19.298580",
     "exception": false,
     "start_time": "2022-03-27T07:25:19.294395",
     "status": "completed"
    },
    "tags": []
   },
   "source": [
    "opencv session: https://github.com/bigvisionai/upgrad_alumni_workshop_day1"
   ]
  },
  {
   "cell_type": "markdown",
   "id": "9c26a60c",
   "metadata": {
    "papermill": {
     "duration": 0.003999,
     "end_time": "2022-03-27T07:25:19.306773",
     "exception": false,
     "start_time": "2022-03-27T07:25:19.302774",
     "status": "completed"
    },
    "tags": []
   },
   "source": []
  },
  {
   "cell_type": "code",
   "execution_count": null,
   "id": "9f374b8f",
   "metadata": {
    "papermill": {
     "duration": 0.003944,
     "end_time": "2022-03-27T07:25:19.314893",
     "exception": false,
     "start_time": "2022-03-27T07:25:19.310949",
     "status": "completed"
    },
    "tags": []
   },
   "outputs": [],
   "source": []
  }
 ],
 "metadata": {
  "kernelspec": {
   "display_name": "Python 3",
   "language": "python",
   "name": "python3"
  },
  "language_info": {
   "codemirror_mode": {
    "name": "ipython",
    "version": 3
   },
   "file_extension": ".py",
   "mimetype": "text/x-python",
   "name": "python",
   "nbconvert_exporter": "python",
   "pygments_lexer": "ipython3",
   "version": "3.7.12"
  },
  "papermill": {
   "default_parameters": {},
   "duration": 10.819979,
   "end_time": "2022-03-27T07:25:19.931040",
   "environment_variables": {},
   "exception": null,
   "input_path": "__notebook__.ipynb",
   "output_path": "__notebook__.ipynb",
   "parameters": {},
   "start_time": "2022-03-27T07:25:09.111061",
   "version": "2.3.3"
  }
 },
 "nbformat": 4,
 "nbformat_minor": 5
}
